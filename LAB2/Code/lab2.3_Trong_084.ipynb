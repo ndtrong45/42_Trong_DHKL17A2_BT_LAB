{
 "cells": [
  {
   "cell_type": "code",
   "execution_count": 3,
   "metadata": {},
   "outputs": [],
   "source": [
    "import numpy as np"
   ]
  },
  {
   "cell_type": "code",
   "execution_count": 1,
   "metadata": {},
   "outputs": [
    {
     "data": {
      "text/plain": [
       "([94.0, 97.0, 114.0, 117.0, 117.0],\n",
       " ['Afternoon', 'Afternoon', 'Afternoon', 'Morning', 'Afternoon'])"
      ]
     },
     "execution_count": 1,
     "metadata": {},
     "output_type": "execute_result"
    }
   ],
   "source": [
    "path_1= 'D:\\\\BT_LAB\\\\LAB2\\\\DATA\\\\efficiency.txt'\n",
    "path_2= 'D:\\\\BT_LAB\\\\LAB2\\\\DATA\\\\shifts.txt'\n",
    "\n",
    "efficiency = []\n",
    "with open(path_1, 'r') as file:\n",
    "    for line in file:\n",
    "        efficiency.append(float(line.strip()))\n",
    "        \n",
    "shifts = []\n",
    "with open(path_2, 'r') as file:\n",
    "    for line in file:\n",
    "        shifts.append(line.strip())\n",
    "        \n",
    "efficiency[:5], shifts[:5]\n",
    "        "
   ]
  },
  {
   "cell_type": "code",
   "execution_count": 4,
   "metadata": {},
   "outputs": [
    {
     "data": {
      "text/plain": [
       "dtype('<U9')"
      ]
     },
     "execution_count": 4,
     "metadata": {},
     "output_type": "execute_result"
    }
   ],
   "source": [
    "np_shifts = np.array(shifts)\n",
    "np_shifts.dtype "
   ]
  },
  {
   "cell_type": "code",
   "execution_count": 6,
   "metadata": {},
   "outputs": [
    {
     "data": {
      "text/plain": [
       "dtype('float64')"
      ]
     },
     "execution_count": 6,
     "metadata": {},
     "output_type": "execute_result"
    }
   ],
   "source": [
    "np_efficiency = np.array(efficiency)\n",
    "np_efficiency.dtype"
   ]
  },
  {
   "cell_type": "code",
   "execution_count": 7,
   "metadata": {},
   "outputs": [
    {
     "data": {
      "text/plain": [
       "96.8529411764706"
      ]
     },
     "execution_count": 7,
     "metadata": {},
     "output_type": "execute_result"
    }
   ],
   "source": [
    "morning_mask= np_shifts == 'Morning'\n",
    "hieu_suat_morning = np_efficiency[morning_mask]\n",
    "\n",
    "hieu_suat_TB_morning = np.mean(hieu_suat_morning)\n",
    "hieu_suat_TB_morning"
   ]
  },
  {
   "cell_type": "code",
   "execution_count": 8,
   "metadata": {},
   "outputs": [
    {
     "name": "stdout",
     "output_type": "stream",
     "text": [
      "Hiệu suất trung bình ca không phải Morning: 98.93939393939394\n"
     ]
    }
   ],
   "source": [
    "non_morning_mask = np_shifts != \"Morning\"\n",
    "hieu_suat_non_morning = np_efficiency[non_morning_mask]\n",
    "hieu_suat_TB_non_morning = np.mean(hieu_suat_non_morning)\n",
    "print(\"Hiệu suất trung bình ca không phải Morning:\", hieu_suat_TB_non_morning)"
   ]
  },
  {
   "cell_type": "code",
   "execution_count": 9,
   "metadata": {},
   "outputs": [
    {
     "name": "stdout",
     "output_type": "stream",
     "text": [
      "Workers data: [('Afternoon',  94.) ('Afternoon',  97.) ('Afternoon', 114.)\n",
      " ('Morning', 117.) ('Afternoon', 117.)]\n"
     ]
    }
   ],
   "source": [
    "dtype = [('shift','U10'),('efficiency', float)]\n",
    "\n",
    "dtype = [('shift', 'U10'), ('efficiency', 'float')]\n",
    "workers = np.array(list(zip(np_shifts, np_efficiency)), dtype=dtype)\n",
    "\n",
    "print(\"Workers data:\", workers[:5])  "
   ]
  }
 ],
 "metadata": {
  "kernelspec": {
   "display_name": "base",
   "language": "python",
   "name": "python3"
  },
  "language_info": {
   "codemirror_mode": {
    "name": "ipython",
    "version": 3
   },
   "file_extension": ".py",
   "mimetype": "text/x-python",
   "name": "python",
   "nbconvert_exporter": "python",
   "pygments_lexer": "ipython3",
   "version": "3.12.4"
  }
 },
 "nbformat": 4,
 "nbformat_minor": 2
}
