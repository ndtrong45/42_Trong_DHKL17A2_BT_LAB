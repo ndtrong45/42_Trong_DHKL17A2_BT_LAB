{
 "cells": [
  {
   "cell_type": "code",
   "execution_count": 1,
   "metadata": {},
   "outputs": [],
   "source": [
    "import numpy as np"
   ]
  },
  {
   "cell_type": "code",
   "execution_count": 2,
   "metadata": {},
   "outputs": [
    {
     "name": "stdout",
     "output_type": "stream",
     "text": [
      "Dữ liệu nhiệt độ hằng ngày trong tháng:\n",
      "[14.98 12.38 15.25 15.29 25.34 20.   18.23 14.21 33.17 17.7  30.85 31.2\n",
      " 20.93 10.88 31.66 23.65 26.77 27.12 33.46 28.85 32.12 26.12 11.05 23.95\n",
      " 23.99 20.82 18.07 12.88 29.6  21.69]\n",
      "Nhiệt độ trung bình trong tháng: 22.41 độ C\n"
     ]
    }
   ],
   "source": [
    "np.random.seed()\n",
    "nhiet_do = np.random.uniform(10,36,30)\n",
    "nhiet_do = np.round(nhiet_do,2)\n",
    "\n",
    "nhiet_do_tb = np.mean(nhiet_do)\n",
    "\n",
    "print(\"Dữ liệu nhiệt độ hằng ngày trong tháng:\")\n",
    "print(nhiet_do)\n",
    "print(f\"Nhiệt độ trung bình trong tháng: {nhiet_do_tb:.2f} độ C\")"
   ]
  },
  {
   "cell_type": "code",
   "execution_count": 3,
   "metadata": {},
   "outputs": [
    {
     "name": "stdout",
     "output_type": "stream",
     "text": [
      "Ngày có nhiệt độ cao nhất là ngày thứ 19 nhiệt độ: 33.46 độ C\n"
     ]
    }
   ],
   "source": [
    "nhiet_do_max = np.max(nhiet_do)\n",
    "ngay_max = np.argmax(nhiet_do) + 1\n",
    "print(f\"Ngày có nhiệt độ cao nhất là ngày thứ {ngay_max} nhiệt độ: {nhiet_do_max} độ C\")\n"
   ]
  },
  {
   "cell_type": "code",
   "execution_count": 4,
   "metadata": {},
   "outputs": [
    {
     "name": "stdout",
     "output_type": "stream",
     "text": [
      "Ngày có nhiệt độ thấp nhất là ngày thứ 14 nhiệt độ: 10.88 độ C\n"
     ]
    }
   ],
   "source": [
    "nhiet_do_min = np.min(nhiet_do)\n",
    "ngay_min = np.argmin(nhiet_do) + 1\n",
    "print(f\"Ngày có nhiệt độ thấp nhất là ngày thứ {ngay_min} nhiệt độ: {nhiet_do_min} độ C\")"
   ]
  },
  {
   "cell_type": "markdown",
   "metadata": {},
   "source": [
    "Tính sự chênh lệch nhiệt độ của các ngày"
   ]
  },
  {
   "cell_type": "code",
   "execution_count": 5,
   "metadata": {},
   "outputs": [
    {
     "data": {
      "text/plain": [
       "array([ -2.6 ,   2.87,   0.04,  10.05,  -5.34,  -1.77,  -4.02,  18.96,\n",
       "       -15.47,  13.15,   0.35, -10.27, -10.05,  20.78,  -8.01,   3.12,\n",
       "         0.35,   6.34,  -4.61,   3.27,  -6.  , -15.07,  12.9 ,   0.04,\n",
       "        -3.17,  -2.75,  -5.19,  16.72,  -7.91])"
      ]
     },
     "execution_count": 5,
     "metadata": {},
     "output_type": "execute_result"
    }
   ],
   "source": [
    "ngay_truoc = nhiet_do[:-1]\n",
    "ngay_sau = nhiet_do[1:]\n",
    "chenh_lech = ngay_sau - ngay_truoc\n",
    "chenh_lech"
   ]
  },
  {
   "cell_type": "code",
   "execution_count": 6,
   "metadata": {},
   "outputs": [
    {
     "name": "stdout",
     "output_type": "stream",
     "text": [
      "Sự chênh lệch nhiệt độ giữa các ngày: [ -2.6    2.87   0.04  10.05  -5.34  -1.77  -4.02  18.96 -15.47  13.15\n",
      "   0.35 -10.27 -10.05  20.78  -8.01   3.12   0.35   6.34  -4.61   3.27\n",
      "  -6.   -15.07  12.9    0.04  -3.17  -2.75  -5.19  16.72  -7.91]\n",
      "Ngày có sự biến đổi nhiệt độ cao nhất là ngày thứ 19 và ngày thứ 20, với độ chênh lệch là 20.78 độ C\n"
     ]
    }
   ],
   "source": [
    "lech_max = np.max(np.abs(chenh_lech))\n",
    "ngay_lech_max = np.argmax(np.abs(nhiet_do)) + 1\n",
    "print(\"Sự chênh lệch nhiệt độ giữa các ngày:\",chenh_lech)\n",
    "print(f\"Ngày có sự biến đổi nhiệt độ cao nhất là ngày thứ {ngay_lech_max} và ngày thứ {ngay_lech_max + 1}, với độ chênh lệch là {lech_max} độ C\")"
   ]
  },
  {
   "cell_type": "markdown",
   "metadata": {},
   "source": [
    "Lọc các ngày có nhiệt độ trên 20 độ C"
   ]
  },
  {
   "cell_type": "code",
   "execution_count": 7,
   "metadata": {},
   "outputs": [
    {
     "name": "stdout",
     "output_type": "stream",
     "text": [
      "Các ngày có nhiệt độ trên 20 độ :\n",
      "Ngày 5: 25.34 C\n",
      "Ngày 9: 33.17 C\n",
      "Ngày 11: 30.85 C\n",
      "Ngày 12: 31.2 C\n",
      "Ngày 13: 20.93 C\n",
      "Ngày 15: 31.66 C\n",
      "Ngày 16: 23.65 C\n",
      "Ngày 17: 26.77 C\n",
      "Ngày 18: 27.12 C\n",
      "Ngày 19: 33.46 C\n",
      "Ngày 20: 28.85 C\n",
      "Ngày 21: 32.12 C\n",
      "Ngày 22: 26.12 C\n",
      "Ngày 24: 23.95 C\n",
      "Ngày 25: 23.99 C\n",
      "Ngày 26: 20.82 C\n",
      "Ngày 29: 29.6 C\n",
      "Ngày 30: 21.69 C\n"
     ]
    }
   ],
   "source": [
    "ngay_tren_20 = np.where(nhiet_do > 20)[0] + 1\n",
    "nhiet_do_20 = nhiet_do[nhiet_do > 20]\n",
    "print(\"Các ngày có nhiệt độ trên 20 độ :\")\n",
    "for ngay,nhiet in zip(ngay_tren_20,nhiet_do_20):\n",
    "    print(f'Ngày {ngay}: {nhiet} C')"
   ]
  },
  {
   "cell_type": "code",
   "execution_count": 8,
   "metadata": {},
   "outputs": [
    {
     "data": {
      "text/plain": [
       "25.34"
      ]
     },
     "execution_count": 8,
     "metadata": {},
     "output_type": "execute_result"
    }
   ],
   "source": [
    "nhiet_do_ngay_5 = nhiet_do[4]\n",
    "nhiet_do_ngay_5"
   ]
  },
  {
   "cell_type": "code",
   "execution_count": 9,
   "metadata": {},
   "outputs": [
    {
     "data": {
      "text/plain": [
       "17.7"
      ]
     },
     "execution_count": 9,
     "metadata": {},
     "output_type": "execute_result"
    }
   ],
   "source": [
    "nhiet_do_ngay_10 =nhiet_do[9]\n",
    "nhiet_do_ngay_10"
   ]
  },
  {
   "cell_type": "code",
   "execution_count": 10,
   "metadata": {},
   "outputs": [
    {
     "data": {
      "text/plain": [
       "31.66"
      ]
     },
     "execution_count": 10,
     "metadata": {},
     "output_type": "execute_result"
    }
   ],
   "source": [
    "nhiet_do_ngay_15 = nhiet_do[14]\n",
    "nhiet_do_ngay_15"
   ]
  },
  {
   "cell_type": "code",
   "execution_count": 11,
   "metadata": {},
   "outputs": [
    {
     "data": {
      "text/plain": [
       "28.85"
      ]
     },
     "execution_count": 11,
     "metadata": {},
     "output_type": "execute_result"
    }
   ],
   "source": [
    "nhiet_do_ngay_20 = nhiet_do[19]\n",
    "nhiet_do_ngay_20"
   ]
  },
  {
   "cell_type": "code",
   "execution_count": 12,
   "metadata": {},
   "outputs": [
    {
     "data": {
      "text/plain": [
       "23.99"
      ]
     },
     "execution_count": 12,
     "metadata": {},
     "output_type": "execute_result"
    }
   ],
   "source": [
    "nhiet_do_ngay_25 = nhiet_do[24]\n",
    "nhiet_do_ngay_25"
   ]
  },
  {
   "cell_type": "markdown",
   "metadata": {},
   "source": [
    "Nhiệt độ ngày chẵn và ngày lẻ"
   ]
  },
  {
   "cell_type": "code",
   "execution_count": 13,
   "metadata": {},
   "outputs": [
    {
     "name": "stdout",
     "output_type": "stream",
     "text": [
      "Nhiệt độ ngày lẻ:\n",
      "Ngày 1: 14.98 độ C\n",
      "Ngày 3: 15.25 độ C\n",
      "Ngày 5: 25.34 độ C\n",
      "Ngày 7: 18.23 độ C\n",
      "Ngày 9: 33.17 độ C\n",
      "Ngày 11: 30.85 độ C\n",
      "Ngày 13: 20.93 độ C\n",
      "Ngày 15: 31.66 độ C\n",
      "Ngày 17: 26.77 độ C\n",
      "Ngày 19: 33.46 độ C\n",
      "Ngày 21: 32.12 độ C\n",
      "Ngày 23: 11.05 độ C\n",
      "Ngày 25: 23.99 độ C\n",
      "Ngày 27: 18.07 độ C\n",
      "Ngày 29: 29.6 độ C\n",
      "Nhiệt độ các ngày chẵn\n",
      "Ngày 2: 12.38 độ C\n",
      "Ngày 4: 15.29 độ C\n",
      "Ngày 6: 20.0 độ C\n",
      "Ngày 8: 14.21 độ C\n",
      "Ngày 10: 17.7 độ C\n",
      "Ngày 12: 31.2 độ C\n",
      "Ngày 14: 10.88 độ C\n",
      "Ngày 16: 23.65 độ C\n",
      "Ngày 18: 27.12 độ C\n",
      "Ngày 20: 28.85 độ C\n",
      "Ngày 22: 26.12 độ C\n",
      "Ngày 24: 23.95 độ C\n",
      "Ngày 26: 20.82 độ C\n",
      "Ngày 28: 12.88 độ C\n",
      "Ngày 30: 21.69 độ C\n"
     ]
    }
   ],
   "source": [
    "ngay_le = nhiet_do[::2]\n",
    "ngay_chan = nhiet_do[1::2]\n",
    "print(\"Nhiệt độ ngày lẻ:\")\n",
    "for ngay,nhiet in zip(range (1,31,2),ngay_le):\n",
    "    print(f\"Ngày {ngay}: {nhiet} độ C\")\n",
    "\n",
    "print(\"Nhiệt độ các ngày chẵn\")\n",
    "for ngay,nhiet in zip(range(2,31,2),ngay_chan):\n",
    "    print(f\"Ngày {ngay}: {nhiet} độ C\")\n",
    "    "
   ]
  }
 ],
 "metadata": {
  "kernelspec": {
   "display_name": "base",
   "language": "python",
   "name": "python3"
  },
  "language_info": {
   "codemirror_mode": {
    "name": "ipython",
    "version": 3
   },
   "file_extension": ".py",
   "mimetype": "text/x-python",
   "name": "python",
   "nbconvert_exporter": "python",
   "pygments_lexer": "ipython3",
   "version": "3.12.4"
  }
 },
 "nbformat": 4,
 "nbformat_minor": 2
}
