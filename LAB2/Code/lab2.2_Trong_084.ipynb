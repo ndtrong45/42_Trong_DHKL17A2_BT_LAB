{
 "cells": [
  {
   "cell_type": "code",
   "execution_count": 3,
   "metadata": {},
   "outputs": [],
   "source": [
    "import numpy as np\n"
   ]
  },
  {
   "cell_type": "code",
   "execution_count": 2,
   "metadata": {},
   "outputs": [
    {
     "data": {
      "text/plain": [
       "[[3.04, 3.39, 6.7],\n",
       " [5.8, 6.41, 6.62],\n",
       " [2.59, 3.57, 9.16],\n",
       " [3.81, 8.78, 9.24],\n",
       " [8.91, 9.64, 6.39]]"
      ]
     },
     "execution_count": 2,
     "metadata": {},
     "output_type": "execute_result"
    }
   ],
   "source": [
    "import csv\n",
    "file_path = 'D:\\\\BT_LAB\\\\LAB2\\\\DATA\\\\diem_hoc_phan.csv'\n",
    "data=[]\n",
    "\n",
    "with open(file_path, newline='', encoding='utf-8') as csvfile:\n",
    "    reader = csv.reader(csvfile)\n",
    "    next(reader)\n",
    "    \n",
    "    \n",
    "    for row in reader:\n",
    "        data.append([float(score)for score in row[2:]])\n",
    "        \n",
    "data[:5]"
   ]
  },
  {
   "cell_type": "code",
   "execution_count": 8,
   "metadata": {},
   "outputs": [
    {
     "name": "stdout",
     "output_type": "stream",
     "text": [
      "[[3.04, 3.39, 6.7], [5.8, 6.41, 6.62], [2.59, 3.57, 9.16], [3.81, 8.78, 9.24], [8.91, 9.64, 6.39], [3.23, 4.72, 6.17], [2.35, 3.29, 6.89], [2.48, 3.81, 4.84], [3.23, 2.61, 4.52], [7.02, 9.01, 9.15], [2.29, 4.48, 5.51], [3.51, 7.19, 5.13], [6.74, 7.78, 6.19], [9.86, 4.64, 3.33], [8.04, 5.12, 4.77], [2.74, 8.88, 5.8], [3.04, 6.88, 3.91], [5.87, 4.41, 8.84], [8.46, 2.63, 4.91], [3.74, 6.71, 3.44], [5.67, 8.05, 6.03], [8.12, 2.46, 3.87], [9.4, 5.31, 5.13], [3.91, 5.09, 8.82], [4.26, 5.78, 8.14], [4.41, 2.66, 5.4], [3.23, 8.3, 8.64], [9.25, 8.29, 9.1], [6.08, 2.67, 6.39], [3.85, 7.71, 5.75]]\n"
     ]
    },
    {
     "data": {
      "text/plain": [
       "array([[3.04, 3.39, 6.7 ],\n",
       "       [5.8 , 6.41, 6.62],\n",
       "       [2.59, 3.57, 9.16],\n",
       "       [3.81, 8.78, 9.24],\n",
       "       [8.91, 9.64, 6.39]])"
      ]
     },
     "execution_count": 8,
     "metadata": {},
     "output_type": "execute_result"
    }
   ],
   "source": [
    "print(data)\n",
    "diem_hp_array = np.array(data)\n",
    "diem_hp_array[:5]"
   ]
  },
  {
   "cell_type": "code",
   "execution_count": 9,
   "metadata": {},
   "outputs": [
    {
     "data": {
      "text/plain": [
       "array([['F', 'F', 'C+'],\n",
       "       ['C', 'F', 'C+'],\n",
       "       ['F', 'F', 'A'],\n",
       "       ['F', 'A', 'A'],\n",
       "       ['A', 'A', 'F']], dtype='<U2')"
      ]
     },
     "execution_count": 9,
     "metadata": {},
     "output_type": "execute_result"
    }
   ],
   "source": [
    "def chuyen_diem(score):\n",
    "    \"\"\"Chuyển đổi điểm số sang điểm chữ theo tiêu chí đã cho\"\"\"\n",
    "    if 8.5 <= score <= 10:\n",
    "        return \"A\"\n",
    "    elif 8.0 <= score < 8.5:\n",
    "        return \"B+\"\n",
    "    elif 7.0 <= score < 8.0:\n",
    "        return \"B\"\n",
    "    elif 6.5 <= score < 7.0:\n",
    "        return \"C+\"\n",
    "    elif 5.5 <= score < 6.0:\n",
    "        return \"C\"\n",
    "    elif 5.0 <= score < 5.5:\n",
    "        return \"D+\"\n",
    "    elif 4.0 <= score < 5.0:\n",
    "        return \"D\"\n",
    "    else:\n",
    "        return \"F\"\n",
    "\n",
    "# áp dụng hàm quy đổi \n",
    "diem_converted = np.vectorize(chuyen_diem)(diem_hp_array)\n",
    "diem_converted[:5]"
   ]
  },
  {
   "cell_type": "code",
   "execution_count": 10,
   "metadata": {},
   "outputs": [
    {
     "name": "stdout",
     "output_type": "stream",
     "text": [
      "[3.04 5.8  2.59 3.81 8.91 3.23 2.35 2.48 3.23 7.02 2.29 3.51 6.74 9.86\n",
      " 8.04 2.74 3.04 5.87 8.46 3.74 5.67 8.12 9.4  3.91 4.26 4.41 3.23 9.25\n",
      " 6.08 3.85]\n",
      "[3.39 6.41 3.57 8.78 9.64 4.72 3.29 3.81 2.61 9.01 4.48 7.19 7.78 4.64\n",
      " 5.12 8.88 6.88 4.41 2.63 6.71 8.05 2.46 5.31 5.09 5.78 2.66 8.3  8.29\n",
      " 2.67 7.71]\n",
      "[6.7  6.62 9.16 9.24 6.39 6.17 6.89 4.84 4.52 9.15 5.51 5.13 6.19 3.33\n",
      " 4.77 5.8  3.91 8.84 4.91 3.44 6.03 3.87 5.13 8.82 8.14 5.4  8.64 9.1\n",
      " 6.39 5.75]\n"
     ]
    }
   ],
   "source": [
    "hp1_scores = diem_hp_array[:, 0]\n",
    "hp2_scores = diem_hp_array[:, 1]\n",
    "hp3_scores = diem_hp_array[:, 2]\n",
    "print(hp1_scores)\n",
    "print(hp2_scores)\n",
    "print(hp3_scores)"
   ]
  },
  {
   "cell_type": "code",
   "execution_count": 11,
   "metadata": {},
   "outputs": [
    {
     "name": "stdout",
     "output_type": "stream",
     "text": [
      "Phân tích điểm HP1:\n",
      "Tổng điểm: 154.92999999999998\n",
      "Điểm trung bình: 5.1643333333333326\n",
      "Độ lệch chuẩn: 2.4078519934211533\n",
      "\n",
      "\n",
      "Phân tích điểm HP2:\n",
      "Tổng điểm: 170.27\n",
      "Điểm trung bình: 5.675666666666667\n",
      "Độ lệch chuẩn: 2.2494765070023637\n",
      "\n",
      "\n",
      "Phân tích điểm HP3:\n",
      "Tổng điểm: 188.78\n",
      "Điểm trung bình: 6.292666666666666\n",
      "Độ lệch chuẩn: 1.8082292135923723\n",
      "\n",
      "\n"
     ]
    }
   ],
   "source": [
    "def phan_tich_diem(diem_hp, ten_hp):\n",
    "    tong_diem_hp = np.sum(diem_hp)\n",
    "    diem_trung_binh_hp = np.mean(diem_hp)\n",
    "    do_lech_chuan_hp = np.std(diem_hp) \n",
    "\n",
    "    print(f\"Phân tích điểm {ten_hp}:\")\n",
    "    print(f\"Tổng điểm: {tong_diem_hp}\")\n",
    "    print(f\"Điểm trung bình: {diem_trung_binh_hp}\")\n",
    "    print(f\"Độ lệch chuẩn: {do_lech_chuan_hp}\")\n",
    "    print(\"\\n\")\n",
    "\n",
    "phan_tich_diem(hp1_scores, 'HP1')\n",
    "phan_tich_diem(hp2_scores, 'HP2')\n",
    "phan_tich_diem(hp3_scores, 'HP3')"
   ]
  },
  {
   "cell_type": "code",
   "execution_count": null,
   "metadata": {},
   "outputs": [],
   "source": [
    "tong_diem_tat_ca_hp = np.sum(diem_hp_array[:, 2:5].astype(float))\n",
    "trung_binh_tat_ca_hp = np.mean(diem_hp_array[:, 2:5].astype(float))\n",
    "do_lech_chuan_tat_ca_hp = np.std(diem_hp_array[:, 2:5].astype(float)) \n",
    "\n",
    "print(\"Phân tích tổng quan:\")\n",
    "print(f\"Tổng điểm tất cả học phần: {tong_diem_tat_ca_hp}\")\n",
    "print(f\"Điểm trung bình tất cả học phần: {trung_binh_tat_ca_hp}\")\n",
    "print(f\"Độ lệch chuẩn tất cả học phần: {do_lech_chuan_tat_ca_hp}\")"
   ]
  }
 ],
 "metadata": {
  "kernelspec": {
   "display_name": "base",
   "language": "python",
   "name": "python3"
  },
  "language_info": {
   "codemirror_mode": {
    "name": "ipython",
    "version": 3
   },
   "file_extension": ".py",
   "mimetype": "text/x-python",
   "name": "python",
   "nbconvert_exporter": "python",
   "pygments_lexer": "ipython3",
   "version": "3.12.4"
  }
 },
 "nbformat": 4,
 "nbformat_minor": 2
}
