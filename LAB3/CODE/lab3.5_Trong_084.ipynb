{
 "cells": [
  {
   "cell_type": "code",
   "execution_count": 1,
   "metadata": {},
   "outputs": [],
   "source": [
    "import pandas as pd "
   ]
  },
  {
   "cell_type": "code",
   "execution_count": 2,
   "metadata": {},
   "outputs": [],
   "source": [
    "stocks1=pd.read_csv('D:\\\\42_Trong_DHKL17A2_BT_LAB\\\\LAB3\\\\DATA\\\\stocks1.csv')\n",
    "stocks2=pd.read_csv('D:\\\\42_Trong_DHKL17A2_BT_LAB\\\\LAB3\\\\DATA\\\\stocks2.csv')"
   ]
  },
  {
   "cell_type": "code",
   "execution_count": 3,
   "metadata": {},
   "outputs": [
    {
     "name": "stdout",
     "output_type": "stream",
     "text": [
      "        date symbol     open       high      low    close    volume\n",
      "0   01-03-19   AMZN  1655.13  1674.2600  1651.00  1671.73   4974877\n",
      "1   04-03-19   AMZN  1685.00  1709.4300  1674.36  1696.17   6167358\n",
      "2   05-03-19   AMZN  1702.95  1707.8000  1689.01  1692.43   3681522\n",
      "3   06-03-19   AMZN  1695.97        NaN      NaN  1668.95   3996001\n",
      "4   07-03-19   AMZN  1667.37  1669.7500  1620.51  1625.95   4957017\n",
      "5   01-03-19   AAPL   174.28   175.1500   172.89   174.97  25886167\n",
      "6   04-03-19   AAPL   175.69   177.7500   173.97   175.85  27436203\n",
      "7   05-03-19   AAPL   175.94   176.0000   174.54   175.53  19737419\n",
      "8   06-03-19   AAPL   174.67   175.4900   173.94   174.52  20810384\n",
      "9   07-03-19   AAPL   173.87   174.4400   172.02   172.50  24796374\n",
      "10  01-03-19   GOOG  1124.90  1142.9700  1124.75  1140.99   1450316\n",
      "11  04-03-19   GOOG  1146.99  1158.2800  1130.69  1147.80   1446047\n",
      "12  05-03-19   GOOG  1150.06        NaN      NaN  1162.03   1443174\n",
      "13  06-03-19   GOOG  1162.49  1167.5700  1155.49  1157.86   1099289\n",
      "14  07-03-19   GOOG  1155.72  1156.7600  1134.91  1143.30   1166559\n",
      "15  01-03-19     FB   162.60   163.1320   161.69   162.28  11097770\n",
      "16  04-03-19     FB   163.90   167.5000   163.83   167.37  18894689\n",
      "17  05-03-19     FB   167.37   171.8800   166.55   171.26  28187890\n",
      "18  06-03-19     FB   172.90   173.5700   171.27   172.51  21531723\n",
      "19  07-03-19     FB   171.50   171.7400   167.61   169.13  18306504\n",
      "20  01-03-19   TSLA   306.94   307.1300   291.90   294.79  22911375\n",
      "21  04-03-19   TSLA   298.12   299.0000   282.78   285.36  17096818\n",
      "22  05-03-19   TSLA   282.00   284.0000   270.10   276.54  18764740\n",
      "23  06-03-19   TSLA   276.48   281.5058   274.39   276.24  10335485\n",
      "24  07-03-19   TSLA   278.84   284.7000   274.25   276.59   9442483\n"
     ]
    }
   ],
   "source": [
    "stocks=pd.concat([stocks1,stocks2], ignore_index=True)\n",
    "print(stocks)"
   ]
  },
  {
   "cell_type": "code",
   "execution_count": 4,
   "metadata": {},
   "outputs": [
    {
     "name": "stdout",
     "output_type": "stream",
     "text": [
      "DataFrame sau khi tạo MultiIndex:\n",
      "                    open     high      low    close   volume\n",
      "date     symbol                                             \n",
      "01-03-19 AMZN    1655.13  1674.26  1651.00  1671.73  4974877\n",
      "04-03-19 AMZN    1685.00  1709.43  1674.36  1696.17  6167358\n",
      "05-03-19 AMZN    1702.95  1707.80  1689.01  1692.43  3681522\n",
      "06-03-19 AMZN    1695.97      NaN      NaN  1668.95  3996001\n",
      "07-03-19 AMZN    1667.37  1669.75  1620.51  1625.95  4957017\n"
     ]
    }
   ],
   "source": [
    "stocks.set_index([\"date\", \"symbol\"], inplace=True)\n",
    "print(\"DataFrame sau khi tạo MultiIndex:\")\n",
    "print(stocks.head())"
   ]
  },
  {
   "cell_type": "code",
   "execution_count": 5,
   "metadata": {},
   "outputs": [],
   "source": [
    "companies=pd.read_csv('D:\\\\BT_LAB\\\\LAB3\\\\DATA\\\\companies.csv')"
   ]
  },
  {
   "cell_type": "code",
   "execution_count": 6,
   "metadata": {},
   "outputs": [
    {
     "name": "stdout",
     "output_type": "stream",
     "text": [
      "Dữ liệu sau khi kết hợp là :\n",
      "       open       high      low    close    volume  name  employees  \\\n",
      "0   1655.13  1674.2600  1651.00  1671.73   4974877  AMZN     613300   \n",
      "1   1685.00  1709.4300  1674.36  1696.17   6167358  AMZN     613300   \n",
      "2   1702.95  1707.8000  1689.01  1692.43   3681522  AMZN     613300   \n",
      "3   1695.97        NaN      NaN  1668.95   3996001  AMZN     613300   \n",
      "4   1667.37  1669.7500  1620.51  1625.95   4957017  AMZN     613300   \n",
      "5    174.28   175.1500   172.89   174.97  25886167  AAPL     132000   \n",
      "6    175.69   177.7500   173.97   175.85  27436203  AAPL     132000   \n",
      "7    175.94   176.0000   174.54   175.53  19737419  AAPL     132000   \n",
      "8    174.67   175.4900   173.94   174.52  20810384  AAPL     132000   \n",
      "9    173.87   174.4400   172.02   172.50  24796374  AAPL     132000   \n",
      "10  1124.90  1142.9700  1124.75  1140.99   1450316  GOOG      98771   \n",
      "11  1146.99  1158.2800  1130.69  1147.80   1446047  GOOG      98771   \n",
      "12  1150.06        NaN      NaN  1162.03   1443174  GOOG      98771   \n",
      "13  1162.49  1167.5700  1155.49  1157.86   1099289  GOOG      98771   \n",
      "14  1155.72  1156.7600  1134.91  1143.30   1166559  GOOG      98771   \n",
      "15   162.60   163.1320   161.69   162.28  11097770    FB      48268   \n",
      "16   163.90   167.5000   163.83   167.37  18894689    FB      48268   \n",
      "17   167.37   171.8800   166.55   171.26  28187890    FB      48268   \n",
      "18   172.90   173.5700   171.27   172.51  21531723    FB      48268   \n",
      "19   171.50   171.7400   167.61   169.13  18306504    FB      48268   \n",
      "20   306.94   307.1300   291.90   294.79  22911375  TSLA      48016   \n",
      "21   298.12   299.0000   282.78   285.36  17096818  TSLA      48016   \n",
      "22   282.00   284.0000   270.10   276.54  18764740  TSLA      48016   \n",
      "23   276.48   281.5058   274.39   276.24  10335485  TSLA      48016   \n",
      "24   278.84   284.7000   274.25   276.59   9442483  TSLA      48016   \n",
      "\n",
      "   headquarters_city headquarters_state  \n",
      "0            Seattle                 WA  \n",
      "1            Seattle                 WA  \n",
      "2            Seattle                 WA  \n",
      "3            Seattle                 WA  \n",
      "4            Seattle                 WA  \n",
      "5          Cupertino                 CA  \n",
      "6          Cupertino                 CA  \n",
      "7          Cupertino                 CA  \n",
      "8          Cupertino                 CA  \n",
      "9          Cupertino                 CA  \n",
      "10     Mountain View                 CA  \n",
      "11     Mountain View                 CA  \n",
      "12     Mountain View                 CA  \n",
      "13     Mountain View                 CA  \n",
      "14     Mountain View                 CA  \n",
      "15        Menlo Park                 CA  \n",
      "16        Menlo Park                 CA  \n",
      "17        Menlo Park                 CA  \n",
      "18        Menlo Park                 CA  \n",
      "19        Menlo Park                 CA  \n",
      "20         Palo Alto                 CA  \n",
      "21         Palo Alto                 CA  \n",
      "22         Palo Alto                 CA  \n",
      "23         Palo Alto                 CA  \n",
      "24         Palo Alto                 CA  \n"
     ]
    }
   ],
   "source": [
    "ket_hop_stocks_companies=pd.merge(stocks,companies,left_on=\"symbol\",right_on=\"name\",how=\"inner\")\n",
    "print('Dữ liệu sau khi kết hợp là :')\n",
    "print(ket_hop_stocks_companies)"
   ]
  },
  {
   "cell_type": "code",
   "execution_count": 7,
   "metadata": {},
   "outputs": [
    {
     "name": "stdout",
     "output_type": "stream",
     "text": [
      "Giá trung bình và volume trung bình của mỗi công ty:\n",
      "          open        high       low     close      volume\n",
      "name                                                      \n",
      "AAPL   174.890   175.76600   173.472   174.674  23733309.4\n",
      "AMZN  1681.284  1690.31000  1658.720  1671.046   4755355.0\n",
      "FB     167.654   169.56440   166.190   168.510  19603715.2\n",
      "GOOG  1148.032  1156.39500  1136.460  1150.396   1321077.0\n",
      "TSLA   288.476   291.26716   278.684   281.904  15710180.2\n"
     ]
    }
   ],
   "source": [
    "nhom_stocks = ket_hop_stocks_companies.groupby('name')\n",
    "\n",
    "gia_tri_tb = nhom_stocks.agg({ 'open': 'mean',\n",
    "                               'high': 'mean',\n",
    "                               'low': 'mean',\n",
    "                               'close': 'mean',\n",
    "                               'volume': 'mean'\n",
    "})\n",
    "\n",
    "print(\"Giá trung bình và volume trung bình của mỗi công ty:\")\n",
    "print(gia_tri_tb)"
   ]
  },
  {
   "cell_type": "code",
   "execution_count": 11,
   "metadata": {},
   "outputs": [],
   "source": [
    "grouped_data = stocks.groupby(['date', 'symbol'])[['open', 'high', 'low', 'close', 'volume']].mean()\n"
   ]
  },
  {
   "cell_type": "code",
   "execution_count": 15,
   "metadata": {},
   "outputs": [
    {
     "name": "stdout",
     "output_type": "stream",
     "text": [
      "                    open      high      low    close      volume\n",
      "date     symbol                                                 \n",
      "01-03-19 AAPL     174.28   175.150   172.89   174.97  25886167.0\n",
      "         AMZN    1655.13  1674.260  1651.00  1671.73   4974877.0\n",
      "         FB       162.60   163.132   161.69   162.28  11097770.0\n",
      "         GOOG    1124.90  1142.970  1124.75  1140.99   1450316.0\n",
      "         TSLA     306.94   307.130   291.90   294.79  22911375.0\n"
     ]
    }
   ],
   "source": [
    "grouped_data = grouped_data.sort_index()\n",
    "print(grouped_data.head())\n"
   ]
  }
 ],
 "metadata": {
  "kernelspec": {
   "display_name": "base",
   "language": "python",
   "name": "python3"
  },
  "language_info": {
   "codemirror_mode": {
    "name": "ipython",
    "version": 3
   },
   "file_extension": ".py",
   "mimetype": "text/x-python",
   "name": "python",
   "nbconvert_exporter": "python",
   "pygments_lexer": "ipython3",
   "version": "3.12.4"
  }
 },
 "nbformat": 4,
 "nbformat_minor": 2
}
